{
 "metadata": {
  "name": "",
  "signature": "sha256:ee59691f205b776ef9f14af00855e3dd772704dd52eaff1670a983bad3410d31"
 },
 "nbformat": 3,
 "nbformat_minor": 0,
 "worksheets": [
  {
   "cells": [
    {
     "cell_type": "code",
     "collapsed": false,
     "input": [
      "movie={}\n",
      "import csv\n",
      "f=open('imdb.csv')\n",
      "for line in csv.reader(f):\n",
      "    try:\n",
      "        if int(line[2]) >=1960:\n",
      "            movie.setdefault(line[1],[line[3],line[2]]).append(line[0])\n",
      "    except:\n",
      "        continue"
     ],
     "language": "python",
     "metadata": {},
     "outputs": [],
     "prompt_number": 1
    },
    {
     "cell_type": "code",
     "collapsed": false,
     "input": [
      "#Actors Angle\n",
      "mActors={}\n",
      "import csv\n",
      "f=open('imdb.csv')\n",
      "for line in csv.reader(f):\n",
      "    try:\n",
      "        if int(line[2]) >= 1960:\n",
      "            mActors.setdefault(line[0],[line[3],line[1],line[2]]).append([line[3],line[1],line[2]])\n",
      "    except:\n",
      "        continue"
     ],
     "language": "python",
     "metadata": {},
     "outputs": [],
     "prompt_number": 2
    },
    {
     "cell_type": "code",
     "collapsed": false,
     "input": [
      "# Loading the network\n",
      "import networkx as nx\n",
      "G=nx.Graph()\n",
      "for mid in movie:\n",
      "    for i in range(2,len(movie[mid])-1):\n",
      "        G.add_edge(movie[mid][i],movie[mid][i+1])\n",
      "\n",
      "G.remove_edges_from(G.selfloop_edges())"
     ],
     "language": "python",
     "metadata": {},
     "outputs": [],
     "prompt_number": 2
    },
    {
     "cell_type": "code",
     "collapsed": false,
     "input": [
      "## Sampling using BFS\n",
      "sampled_edge_bfs=nx.bfs_edges(G, '86113', reverse=False)\n",
      "G_sampled_bfs=nx.Graph()\n",
      "for i in list(sampled_edge_bfs):\n",
      "    G_sampled_bfs.add_edge(i[0],i[1])"
     ],
     "language": "python",
     "metadata": {},
     "outputs": [],
     "prompt_number": 4
    },
    {
     "cell_type": "code",
     "collapsed": false,
     "input": [
      "##Sampled igraph loading vertices\n",
      "import igraph\n",
      "gg=igraph.Graph()\n",
      "for node in G_sampled_bfs:\n",
      "    gg.add_vertices(node)"
     ],
     "language": "python",
     "metadata": {},
     "outputs": [],
     "prompt_number": 81
    },
    {
     "cell_type": "code",
     "collapsed": false,
     "input": [
      "#Sampled igraph loading edges\n",
      "import igraph\n",
      "iedges=[]\n",
      "for e in G_sampled_bfs.edges():\n",
      "    iedges+=[(e[0],e[1])]\n",
      "gg.add_edges(iedges)"
     ],
     "language": "python",
     "metadata": {},
     "outputs": [],
     "prompt_number": 82
    },
    {
     "cell_type": "code",
     "collapsed": false,
     "input": [
      "##Full network igraph loading vertices\n",
      "import igraph\n",
      "g=igraph.Graph()\n",
      "for node in G:\n",
      "    g.add_vertices(node)"
     ],
     "language": "python",
     "metadata": {},
     "outputs": [],
     "prompt_number": 46
    },
    {
     "cell_type": "code",
     "collapsed": false,
     "input": [
      "#Full igraph loading edges\n",
      "import igraph\n",
      "fedges=[]\n",
      "for e in G_sampled_bfs.edges():\n",
      "    fedges+=[(e[0],e[1])]\n",
      "g.add_edges(fedges)"
     ],
     "language": "python",
     "metadata": {},
     "outputs": [],
     "prompt_number": 47
    },
    {
     "cell_type": "code",
     "collapsed": false,
     "input": [
      "## Getting Hollywood! Community detection\n",
      "#community=gg.community_edge_betweenness(clusters=5,directed=False,weights=None)\n"
     ],
     "language": "python",
     "metadata": {},
     "outputs": []
    },
    {
     "cell_type": "code",
     "collapsed": false,
     "input": [
      "community=gg.community_fastgreedy(weights=None)"
     ],
     "language": "python",
     "metadata": {},
     "outputs": [],
     "prompt_number": 83
    },
    {
     "cell_type": "code",
     "collapsed": false,
     "input": [
      "cluster=community.as_clustering(n=100)\n"
     ],
     "language": "python",
     "metadata": {},
     "outputs": [],
     "prompt_number": 123
    },
    {
     "cell_type": "code",
     "collapsed": false,
     "input": [
      "len(cluster)"
     ],
     "language": "python",
     "metadata": {},
     "outputs": [
      {
       "metadata": {},
       "output_type": "pyout",
       "prompt_number": 85,
       "text": [
        "6"
       ]
      }
     ],
     "prompt_number": 85
    },
    {
     "cell_type": "code",
     "collapsed": false,
     "input": [
      "# let us compare the different results more quantitatively\n",
      "# we can compute the difference between the counts for each degree class\n",
      "import math as math\n",
      "def difference_sample(G,H):\n",
      "    max_d=0\n",
      "    N=G.number_of_nodes()\n",
      "    for i in G.nodes():\n",
      "        if G.degree(i)>max_d:\n",
      "            max_d=G.degree(i)\n",
      "    counts=np.zeros(max_d+1,float)\n",
      "    for i in G.nodes():\n",
      "        counts[G.degree(i)]+=1\n",
      "\n",
      "    counts_sampled=np.zeros(max_d+1,float)\n",
      "    for i in H.nodes():\n",
      "        counts_sampled[H.degree(i)]+=1\n",
      "    \n",
      "    val=0.\n",
      "    nn=0.\n",
      "    for i in range(max_d+1):\n",
      "        if counts[i]>0:\n",
      "                val+=(counts_sampled[i]-counts[i])**2.\n",
      "                nn+=1.\n",
      "    return math.sqrt(val)/nn\n",
      "\n",
      "# let us see the degree count of the original graph\n",
      "# for simplicity let us write a function that does it \n",
      "def get_k_counts(G):\n",
      "    max_d=0\n",
      "    for i in G.nodes():\n",
      "        if G.degree(i)>max_d:\n",
      "            max_d=G.degree(i)\n",
      "    counts=np.zeros(max_d+1,int)\n",
      "    for i in G.nodes():\n",
      "        counts[G.degree(i)]+=1\n",
      "    x=[]\n",
      "    y=[]\n",
      "    for i in range(0,max_d+1):\n",
      "        if counts[i]>0:\n",
      "            x.append(i)\n",
      "            y.append(counts[i])\n",
      "    return x,y\n",
      "\n",
      "# also we write the function to get the degree distribution\n",
      "# given a network G\n",
      "def get_dist(G):\n",
      "    degree={}\n",
      "    for i in G.nodes():\n",
      "        degree[i]=G.degree(i)\n",
      "    \n",
      "    binned=lb.log_bin(degree,30)\n",
      "    x=[]\n",
      "    y=[]\n",
      "    for i in binned:\n",
      "        x.append(i[0])\n",
      "        y.append(i[1])\n",
      "    return x,y\n",
      "\n",
      "# also we write the function to get a general distribution\n",
      "# given a dictionary \n",
      "\n",
      "def get_dist_dict(dict):\n",
      "    temp={}\n",
      "    for i in dict:\n",
      "        if dict[i]>0:\n",
      "            temp[i]=dict[i]\n",
      "    \n",
      "    binned=lb.log_bin(temp,40)\n",
      "    x=[]\n",
      "    y=[]\n",
      "    for i in binned:\n",
      "        x.append(i[0])\n",
      "        y.append(i[1])\n",
      "    return x,y"
     ],
     "language": "python",
     "metadata": {},
     "outputs": [],
     "prompt_number": 52
    },
    {
     "cell_type": "code",
     "collapsed": false,
     "input": [
      "## Sampling using DFS\n",
      "chk=0\n",
      "import networkx as nx\n",
      "# let us consider a single source to start\n",
      "#source=randint(0,G_AS.number_of_nodes()-1)\n",
      "sampled_edge_dfs=nx.dfs_edges(G, '65378')\n",
      "\n",
      "G_sampled_dfs=nx.Graph()\n",
      "for i in list(sampled_edge_dfs):\n",
      "    chk+=1\n",
      "    G_sampled_dfs.add_edge(i[0],i[1])\n"
     ],
     "language": "python",
     "metadata": {},
     "outputs": [],
     "prompt_number": 51
    },
    {
     "cell_type": "code",
     "collapsed": false,
     "input": [
      "values=get_k_counts(G)\n",
      "values_sampled_dfs=get_k_counts(G_sampled_dfs)\n",
      "values_sampled_bfs=get_k_counts(G_sampled_bfs)\n",
      "plt.plot(values[0],values[1],c=\"Black\",alpha=0.6)\n",
      "plt.plot(values_sampled_bfs[0],values_sampled_bfs[1],c=\"Red\",alpha=0.5)\n",
      "plt.plot(values_sampled_dfs[0],values_sampled_dfs[1],c=\"Blue\",alpha=0.5)\n",
      "plt.plot(values_sampled_rw[0],values_sampled_rw[1],c=\"Orange\",alpha=0.5)\n",
      "\n",
      "plt.xscale(\"log\")\n",
      "plt.yscale(\"log\")\n",
      "plt.xlabel(\"k\")\n",
      "plt.ylabel(\"N(k)\")\n",
      "savefig('foo.png')\n"
     ],
     "language": "python",
     "metadata": {},
     "outputs": [
      {
       "metadata": {},
       "output_type": "display_data",
       "png": "[encoded data removed]",
       "text": [
        "<matplotlib.figure.Figure at 0x172bb8f28>"
       ]
      }
     ],
     "prompt_number": 59
    },
    {
     "cell_type": "code",
     "collapsed": false,
     "input": [
      "# random walk function\n",
      "# the function requires the network G\n",
      "# however the walker can see just the local neighbors\n",
      "# going step by step\n",
      "# we sample G going from node to node creating a sample\n",
      "# that is the sampled network\n",
      "def random_walk(G,source,p):\n",
      "    sample_size=int(p*G.number_of_nodes())\n",
      "    G_sample=nx.Graph()\n",
      "    nodes=set()\n",
      "    while len(nodes)<sample_size:\n",
      "        neighbors=G.neighbors(source)\n",
      "        shuffle(neighbors)\n",
      "        target=neighbors[0]\n",
      "        nodes.add(source)\n",
      "        nodes.add(target)\n",
      "        G_sample.add_edge(source,target)\n",
      "        source=target\n",
      "    return G_sample\n",
      "\n",
      "\n",
      "G_sampled_rw=random_walk(G_AS,'65378',0.1)\n",
      "\n",
      "values_sampled_rw=get_k_counts(G_sampled_rw)\n"
     ],
     "language": "python",
     "metadata": {},
     "outputs": [],
     "prompt_number": 57
    },
    {
     "cell_type": "code",
     "collapsed": false,
     "input": [
      "for i in G.edges():\n",
      "    "
     ],
     "language": "python",
     "metadata": {},
     "outputs": [],
     "prompt_number": 60
    },
    {
     "cell_type": "code",
     "collapsed": false,
     "input": [
      "for i in movie:\n",
      "    if '1952' in movie[i][1]:\n",
      "        print \"fuck u\""
     ],
     "language": "python",
     "metadata": {},
     "outputs": [],
     "prompt_number": 226
    },
    {
     "cell_type": "code",
     "collapsed": false,
     "input": [
      "actors={}\n",
      "import csv\n",
      "f=open('imdb-people.csv')\n",
      "for line in csv.reader(f):\n",
      "    actors[line[0]]=line[1]\n",
      "    "
     ],
     "language": "python",
     "metadata": {},
     "outputs": [],
     "prompt_number": 3
    },
    {
     "cell_type": "code",
     "collapsed": false,
     "input": [
      "G.number_of_nodes()"
     ],
     "language": "python",
     "metadata": {},
     "outputs": [
      {
       "metadata": {},
       "output_type": "pyout",
       "prompt_number": 69,
       "text": [
        "1240394"
       ]
      }
     ],
     "prompt_number": 69
    },
    {
     "cell_type": "code",
     "collapsed": false,
     "input": [
      "G.edge()"
     ],
     "language": "python",
     "metadata": {},
     "outputs": []
    },
    {
     "cell_type": "code",
     "collapsed": false,
     "input": [
      "#Degree Full graph\n",
      "d=G.degree()"
     ],
     "language": "python",
     "metadata": {},
     "outputs": [],
     "prompt_number": 6
    },
    {
     "cell_type": "code",
     "collapsed": false,
     "input": [
      "#Degree sampled\n",
      "d2=G_sampled_bfs.degree()"
     ],
     "language": "python",
     "metadata": {},
     "outputs": [],
     "prompt_number": 7
    },
    {
     "cell_type": "code",
     "collapsed": false,
     "input": [
      "#EigenValue Centrality\n",
      "eigen=nx.eigenvector_centrality(G, max_iter=100, tol=1e-06, nstart=None)"
     ],
     "language": "python",
     "metadata": {},
     "outputs": [],
     "prompt_number": 8
    },
    {
     "cell_type": "code",
     "collapsed": false,
     "input": [
      "#Eigenvalue Cent sample\n",
      "eigen2=nx.eigenvector_centrality(G_sampled_bfs, max_iter=100, tol=1e-06, nstart=None)"
     ],
     "language": "python",
     "metadata": {},
     "outputs": [
      {
       "ename": "NetworkXError",
       "evalue": "eigenvector_centrality():\npower iteration failed to converge in %d iterations.\"%(i+1))",
       "output_type": "pyerr",
       "traceback": [
        "\u001b[1;31m---------------------------------------------------------------------------\u001b[0m\n\u001b[1;31mNetworkXError\u001b[0m                             Traceback (most recent call last)",
        "\u001b[1;32m<ipython-input-14-977c32c98fae>\u001b[0m in \u001b[0;36m<module>\u001b[1;34m()\u001b[0m\n\u001b[0;32m      1\u001b[0m \u001b[1;31m#Eigenvalue Cent sample\u001b[0m\u001b[1;33m\u001b[0m\u001b[1;33m\u001b[0m\u001b[0m\n\u001b[1;32m----> 2\u001b[1;33m \u001b[0meigen\u001b[0m\u001b[1;33m=\u001b[0m\u001b[0mnx\u001b[0m\u001b[1;33m.\u001b[0m\u001b[0meigenvector_centrality\u001b[0m\u001b[1;33m(\u001b[0m\u001b[0mG_sampled_bfs\u001b[0m\u001b[1;33m,\u001b[0m \u001b[0mmax_iter\u001b[0m\u001b[1;33m=\u001b[0m\u001b[1;36m100\u001b[0m\u001b[1;33m,\u001b[0m \u001b[0mtol\u001b[0m\u001b[1;33m=\u001b[0m\u001b[1;36m1e-06\u001b[0m\u001b[1;33m,\u001b[0m \u001b[0mnstart\u001b[0m\u001b[1;33m=\u001b[0m\u001b[0mNone\u001b[0m\u001b[1;33m)\u001b[0m\u001b[1;33m\u001b[0m\u001b[0m\n\u001b[0m",
        "\u001b[1;32mC:\\Users\\vadera.p\\Downloads\\User\\lib\\site-packages\\networkx\\algorithms\\centrality\\eigenvector.pyc\u001b[0m in \u001b[0;36meigenvector_centrality\u001b[1;34m(G, max_iter, tol, nstart, weight)\u001b[0m\n\u001b[0;32m    108\u001b[0m \u001b[1;33m\u001b[0m\u001b[0m\n\u001b[0;32m    109\u001b[0m     raise nx.NetworkXError(\"\"\"eigenvector_centrality():\n\u001b[1;32m--> 110\u001b[1;33m power iteration failed to converge in %d iterations.\"%(i+1))\"\"\")\n\u001b[0m\u001b[0;32m    111\u001b[0m \u001b[1;33m\u001b[0m\u001b[0m\n\u001b[0;32m    112\u001b[0m \u001b[1;33m\u001b[0m\u001b[0m\n",
        "\u001b[1;31mNetworkXError\u001b[0m: eigenvector_centrality():\npower iteration failed to converge in %d iterations.\"%(i+1))"
       ]
      }
     ],
     "prompt_number": 14
    },
    {
     "cell_type": "code",
     "collapsed": false,
     "input": [
      "# K-Core\n",
      "r=nx.core_number(G)"
     ],
     "language": "python",
     "metadata": {},
     "outputs": [],
     "prompt_number": 9
    },
    {
     "cell_type": "code",
     "collapsed": false,
     "input": [
      "# K-core sample\n",
      "r2=nx.core_number(G_sampled_bfs)"
     ],
     "language": "python",
     "metadata": {},
     "outputs": [],
     "prompt_number": 10
    },
    {
     "cell_type": "code",
     "collapsed": false,
     "input": [
      "pgr=nx.pagerank(G, alpha=0.85, personalization=None, max_iter=100, tol=1e-06, nstart=None, dangling=None)"
     ],
     "language": "python",
     "metadata": {},
     "outputs": [],
     "prompt_number": 11
    },
    {
     "cell_type": "code",
     "collapsed": false,
     "input": [
      "pgr2=nx.pagerank(G_sampled_bfs, alpha=0.85, personalization=None, max_iter=100, tol=1e-06, nstart=None, dangling=None)"
     ],
     "language": "python",
     "metadata": {},
     "outputs": [],
     "prompt_number": 12
    },
    {
     "cell_type": "code",
     "collapsed": false,
     "input": [
      "import networkx as nx\n",
      "part=best_partition(G)\n",
      "modularity(part, G)\n",
      "with open(\"community.txt\", \"w\") as text_file:\n",
      "    for i in part:\n",
      "        string=str(i) + \"\\t\" + str(part[i]) + \"\\n\"\n",
      "        text_file.write(string)"
     ],
     "language": "python",
     "metadata": {},
     "outputs": [],
     "prompt_number": 8
    },
    {
     "cell_type": "code",
     "collapsed": false,
     "input": [
      "comm={}\n",
      "a=open('commm.txt','r')\n",
      "for line in a:\n",
      "    line.strip().split('\\t')  \n",
      "    comm[line[0]]=line[1]"
     ],
     "language": "python",
     "metadata": {},
     "outputs": [],
     "prompt_number": 7
    },
    {
     "cell_type": "code",
     "collapsed": false,
     "input": [
      "jacks=G.neighbors('531939')"
     ],
     "language": "python",
     "metadata": {},
     "outputs": [],
     "prompt_number": 13
    },
    {
     "cell_type": "code",
     "collapsed": false,
     "input": [
      "jacks_degree={}\n",
      "for i in jacks:\n",
      "    jacks_degree[i]=d[i]"
     ],
     "language": "python",
     "metadata": {},
     "outputs": [],
     "prompt_number": 21
    },
    {
     "cell_type": "code",
     "collapsed": false,
     "input": [
      "with open(\"jacks.txt\", \"w\") as text_file:\n",
      "    for i in jacks_degree:\n",
      "        string=str(i) + \"\\t\" + str(jacks_degree[i]) + \"\\n\"\n",
      "        text_file.write(string)"
     ],
     "language": "python",
     "metadata": {},
     "outputs": [],
     "prompt_number": 23
    },
    {
     "cell_type": "code",
     "collapsed": false,
     "input": [
      "#THis is the end...\n",
      "id_ofi=['894806','8298','241160','56113','459447','161880','212423','935893','531939','459447','371251']\n",
      "r_final={}\n",
      "for i in id_ofi:\n",
      "    r_final[i]=[actors[i],d[i],r[i],eigen[i],pgr[i]]"
     ],
     "language": "python",
     "metadata": {},
     "outputs": [],
     "prompt_number": 13
    },
    {
     "cell_type": "code",
     "collapsed": false,
     "input": [
      "#THis is the end...\n",
      "id_ofi=['894806','8298','241160','56113','459447','161880','212423','935893','531939','459447','371251']\n",
      "r_final2={}\n",
      "for i in id_ofi:\n",
      "    r_final2[i]=[actors[i],d2[i],r2[i],pgr2[i]]"
     ],
     "language": "python",
     "metadata": {},
     "outputs": [],
     "prompt_number": 16
    },
    {
     "cell_type": "code",
     "collapsed": false,
     "input": [
      "a=open(\"results.csv\",'w')\n",
      "for i in r_final:\n",
      "    \n",
      "    "
     ],
     "language": "python",
     "metadata": {},
     "outputs": []
    },
    {
     "cell_type": "code",
     "collapsed": false,
     "input": [
      "r_final2"
     ],
     "language": "python",
     "metadata": {},
     "outputs": [
      {
       "metadata": {},
       "output_type": "pyout",
       "prompt_number": 19,
       "text": [
        "{'161880': ['Cage, Nicolas', 40, 1, 2.0458724115386325e-05],\n",
        " '212423': ['Clooney, George', 39, 1, 1.509262776039327e-05],\n",
        " '241160': ['Cruise, Tom', 44, 1, 1.3393536243526446e-05],\n",
        " '371251': ['Franco, James', 78, 1, 1.532231799087866e-05],\n",
        " '459447': ['Hanks, Tom', 27, 1, 1.2495168636252233e-05],\n",
        " '531939': ['Jackson, Samuel L.', 112, 1, 4.8647827904857046e-05],\n",
        " '56113': ['Bacon, Kevin', 69, 1, 2.4935452513437024e-05],\n",
        " '8298': ['Affleck, Ben', 35, 1, 1.270360376256518e-05],\n",
        " '894806': ['Pitt, Brad', 98, 1, 2.1321170776337578e-05],\n",
        " '935893': ['Reeves, Keanu', 51, 1, 2.238482189085769e-05]}"
       ]
      }
     ],
     "prompt_number": 19
    },
    {
     "cell_type": "code",
     "collapsed": false,
     "input": [
      "dendo=generate_dendogram(G, part_init=None)"
     ],
     "language": "python",
     "metadata": {},
     "outputs": [],
     "prompt_number": 8
    },
    {
     "cell_type": "code",
     "collapsed": false,
     "input": [
      "worlds=partition_at_level(dendo, level=0)\n",
      "worlds2=partition_at_level(dendo, level=6)"
     ],
     "language": "python",
     "metadata": {},
     "outputs": [],
     "prompt_number": 60
    },
    {
     "cell_type": "code",
     "collapsed": false,
     "input": [
      "kee=worlds.keys()\n",
      "kee2"
     ],
     "language": "python",
     "metadata": {},
     "outputs": [],
     "prompt_number": 30
    },
    {
     "cell_type": "code",
     "collapsed": false,
     "input": [
      "max(worlds2.values())"
     ],
     "language": "python",
     "metadata": {},
     "outputs": [
      {
       "metadata": {},
       "output_type": "pyout",
       "prompt_number": 76,
       "text": [
        "21970"
       ]
      }
     ],
     "prompt_number": 76
    },
    {
     "cell_type": "code",
     "collapsed": false,
     "input": [
      "max(worlds.values())"
     ],
     "language": "python",
     "metadata": {},
     "outputs": [
      {
       "metadata": {},
       "output_type": "pyout",
       "prompt_number": 67,
       "text": [
        "320670"
       ]
      }
     ],
     "prompt_number": 67
    },
    {
     "cell_type": "code",
     "collapsed": false,
     "input": [
      "print \"Hi\"\n"
     ],
     "language": "python",
     "metadata": {},
     "outputs": [
      {
       "output_type": "stream",
       "stream": "stdout",
       "text": [
        "Hi\n"
       ]
      }
     ],
     "prompt_number": 1
    },
    {
     "cell_type": "code",
     "collapsed": false,
     "input": [
      "clicks=list(nx.k_clique_communities(G,4))"
     ],
     "language": "python",
     "metadata": {},
     "outputs": []
    },
    {
     "cell_type": "code",
     "collapsed": false,
     "input": [
      "import igraph"
     ],
     "language": "python",
     "metadata": {},
     "outputs": [],
     "prompt_number": 1
    },
    {
     "cell_type": "code",
     "collapsed": false,
     "input": [
      "#for i in r:\n",
      "  #  if r[i] == 18:\n",
      " #       print actors[i]\n"
     ],
     "language": "python",
     "metadata": {},
     "outputs": [],
     "prompt_number": 62
    },
    {
     "cell_type": "code",
     "collapsed": false,
     "input": [
      "len(clicks)"
     ],
     "language": "python",
     "metadata": {},
     "outputs": [
      {
       "ename": "NameError",
       "evalue": "name 'clicks' is not defined",
       "output_type": "pyerr",
       "traceback": [
        "\u001b[1;31m---------------------------------------------------------------------------\u001b[0m\n\u001b[1;31mNameError\u001b[0m                                 Traceback (most recent call last)",
        "\u001b[1;32m<ipython-input-20-a4872c107526>\u001b[0m in \u001b[0;36m<module>\u001b[1;34m()\u001b[0m\n\u001b[1;32m----> 1\u001b[1;33m \u001b[0mlen\u001b[0m\u001b[1;33m(\u001b[0m\u001b[0mclicks\u001b[0m\u001b[1;33m)\u001b[0m\u001b[1;33m\u001b[0m\u001b[0m\n\u001b[0m",
        "\u001b[1;31mNameError\u001b[0m: name 'clicks' is not defined"
       ]
      }
     ],
     "prompt_number": 20
    },
    {
     "cell_type": "code",
     "collapsed": false,
     "input": [
      "core=[]\n",
      "for i in r:\n",
      "    core.append(r[i])\n",
      "core=sorted(core)"
     ],
     "language": "python",
     "metadata": {},
     "outputs": [],
     "prompt_number": 68
    },
    {
     "cell_type": "code",
     "collapsed": false,
     "input": [
      "index=max(r,key=r.get)\n",
      "actors[index]\n"
     ],
     "language": "python",
     "metadata": {},
     "outputs": [
      {
       "metadata": {},
       "output_type": "pyout",
       "prompt_number": 235,
       "text": [
        "'Parvez, Yunus'"
       ]
      }
     ],
     "prompt_number": 235
    },
    {
     "cell_type": "code",
     "collapsed": false,
     "input": [
      "for i in r.keys():\n",
      "    max(r[i])"
     ],
     "language": "python",
     "metadata": {},
     "outputs": [
      {
       "ename": "TypeError",
       "evalue": "'int' object is not iterable",
       "output_type": "pyerr",
       "traceback": [
        "\u001b[0;31m---------------------------------------------------------------------------\u001b[0m\n\u001b[0;31mTypeError\u001b[0m                                 Traceback (most recent call last)",
        "\u001b[0;32m<ipython-input-237-0e420af2cc9d>\u001b[0m in \u001b[0;36m<module>\u001b[0;34m()\u001b[0m\n\u001b[1;32m      1\u001b[0m \u001b[0;32mfor\u001b[0m \u001b[0mi\u001b[0m \u001b[0;32min\u001b[0m \u001b[0mr\u001b[0m\u001b[0;34m.\u001b[0m\u001b[0mkeys\u001b[0m\u001b[0;34m(\u001b[0m\u001b[0;34m)\u001b[0m\u001b[0;34m:\u001b[0m\u001b[0;34m\u001b[0m\u001b[0m\n\u001b[0;32m----> 2\u001b[0;31m     \u001b[0mmax\u001b[0m\u001b[0;34m(\u001b[0m\u001b[0mr\u001b[0m\u001b[0;34m[\u001b[0m\u001b[0mi\u001b[0m\u001b[0;34m]\u001b[0m\u001b[0;34m)\u001b[0m\u001b[0;34m\u001b[0m\u001b[0m\n\u001b[0m",
        "\u001b[0;31mTypeError\u001b[0m: 'int' object is not iterable"
       ]
      }
     ],
     "prompt_number": 237
    },
    {
     "cell_type": "code",
     "collapsed": false,
     "input": [
      "for j in actors:\n",
      "    if actors[j] == 'Rajinikanth':\n",
      "        print r[j]"
     ],
     "language": "python",
     "metadata": {},
     "outputs": [],
     "prompt_number": 251
    },
    {
     "cell_type": "code",
     "collapsed": false,
     "input": [
      "q=0\n",
      "for j in actors:\n",
      "    if actors[j] == 'Affleck, Ben':\n",
      "        try:\n",
      "            print  j\n",
      "        except:\n",
      "            continue"
     ],
     "language": "python",
     "metadata": {},
     "outputs": [
      {
       "output_type": "stream",
       "stream": "stdout",
       "text": [
        "8298\n"
       ]
      }
     ],
     "prompt_number": 155
    },
    {
     "cell_type": "code",
     "collapsed": false,
     "input": [
      "\n",
      "for i in range(len(cluster)):\n",
      "    if 425053 in cluster[i]:\n",
      "        print i"
     ],
     "language": "python",
     "metadata": {},
     "outputs": [
      {
       "output_type": "stream",
       "stream": "stdout",
       "text": [
        "90\n"
       ]
      }
     ],
     "prompt_number": 129
    },
    {
     "cell_type": "code",
     "collapsed": false,
     "input": [
      "holly=[]\n",
      "for i in cluster[90]:\n",
      "    try:\n",
      "        i=str(i)\n",
      "        holly.append(actors[i])\n",
      "    except:\n",
      "        continue"
     ],
     "language": "python",
     "metadata": {},
     "outputs": [],
     "prompt_number": 130
    },
    {
     "cell_type": "code",
     "collapsed": false,
     "input": [],
     "language": "python",
     "metadata": {},
     "outputs": []
    },
    {
     "cell_type": "code",
     "collapsed": false,
     "input": [
      "core=nx.k_core(G)"
     ],
     "language": "python",
     "metadata": {},
     "outputs": [],
     "prompt_number": 141
    },
    {
     "cell_type": "code",
     "collapsed": false,
     "input": [
      "p=[]\n",
      "for i in core:\n",
      "    p.append()"
     ],
     "language": "python",
     "metadata": {},
     "outputs": [
      {
       "metadata": {},
       "output_type": "pyout",
       "prompt_number": 142,
       "text": [
        "100000"
       ]
      }
     ],
     "prompt_number": 142
    },
    {
     "cell_type": "code",
     "collapsed": false,
     "input": [
      "import numpy as np\n",
      "import matplotlib.pyplot as plt\n",
      "import networkx as nx\n",
      "%pylab inline\n",
      "# log binning function (Your code)\n",
      "from math import*\n",
      "def log_bin(input_dict,n_bins):\n",
      "    \n",
      "    min_val=sorted(input_dict.values())[0]\n",
      "    if min_val==0:\n",
      "        min_val=0.000000001\n",
      "    max_val=sorted(input_dict.values())[-1]\n",
      "    delta=(log(float(max_val))-log(float(min_val)))/n_bins\n",
      "    \n",
      "    bins=np.zeros(n_bins+1,float)\n",
      "    bins[0]=min_val\n",
      "    \n",
      "    for i in range(1,n_bins+1):\n",
      "        bins[i]=bins[i-1]*exp(delta)\n",
      "        \n",
      "    values_in_bin=np.zeros(n_bins+1,float)\n",
      "    nodes_in_bin=np.zeros(n_bins+1,float)  \n",
      "        \n",
      "    for i in input_dict:\n",
      "        for j in range(1,n_bins+1):\n",
      "            if j<n_bins:\n",
      "                if input_dict[i]<bins[j]:\n",
      "                    values_in_bin[j]+=input_dict[i]\n",
      "                    nodes_in_bin[j]+=1.\n",
      "                    break\n",
      "            else:\n",
      "                if input_dict[i]<=bins[j]:\n",
      "                    values_in_bin[j]+=input_dict[i]\n",
      "                    nodes_in_bin[j]+=1.\n",
      "                    break\n",
      "        \n",
      "    \n",
      "    # then we need to evaluate the average x value in each bin\n",
      "    \n",
      "    for i in range(1,n_bins+1):\n",
      "        if nodes_in_bin[i]>0:\n",
      "            values_in_bin[i]=float(values_in_bin[i])/nodes_in_bin[i]\n",
      "           \n",
      "    # finally we get the binned distribution        \n",
      "            \n",
      "    binned=[]\n",
      "    for i in range(1,n_bins+1):\n",
      "        if nodes_in_bin[i]>0:\n",
      "                x=values_in_bin[i]\n",
      "                y=(nodes_in_bin[i])/((bins[i]-bins[i-1])*len(input_dict))\n",
      "                binned.append([x,y])\n",
      "    return binned\n",
      "\n",
      "binned=log_bin(d,100)\n",
      "xa=[]\n",
      "ya=[]\n",
      "for i in binned:\n",
      "    xa.append(i[0])\n",
      "    ya.append(i[1])\n",
      "\n",
      "plt.plot(xa,ya,c=\"red\",marker=\"o\",alpha=0.5)\n",
      "plt.xscale(\"log\")\n",
      "plt.yscale(\"log\")\n",
      "savefig('degree_dist.png')"
     ],
     "language": "python",
     "metadata": {},
     "outputs": [
      {
       "output_type": "stream",
       "stream": "stdout",
       "text": [
        "Populating the interactive namespace from numpy and matplotlib\n"
       ]
      },
      {
       "output_type": "stream",
       "stream": "stderr",
       "text": [
        "WARNING: pylab import has clobbered these variables: ['fmod', 'cosh', 'sinh', 'trunc', 'tan', 'gamma', 'degrees', 'radians', 'sin', 'expm1', 'ldexp', 'isnan', 'exp', 'frexp', 'ceil', 'copysign', 'cos', 'tanh', 'fabs', 'sqrt', 'hypot', 'log', 'log10', 'pi', 'log1p', 'floor', 'modf', 'isinf', 'e']\n",
        "`%matplotlib` prevents importing * from pylab and numpy\n"
       ]
      },
      {
       "metadata": {},
       "output_type": "display_data",
       "png": "[encoded data removed]",
       "text": [
        "<matplotlib.figure.Figure at 0x19683fd0>"
       ]
      }
     ],
     "prompt_number": 26
    },
    {
     "cell_type": "code",
     "collapsed": false,
     "input": [
      "d=G.degree()"
     ],
     "language": "python",
     "metadata": {},
     "outputs": [],
     "prompt_number": 19
    },
    {
     "cell_type": "code",
     "collapsed": false,
     "input": [
      "import linbin as lb\n",
      "binned=lb.lin_bin(r,30)\n",
      "xa=[]\n",
      "ya=[]\n",
      "for i in binned:\n",
      "    xa.append(i[0])\n",
      "    ya.append(i[1])\n",
      "\n",
      "plt.plot(xa,ya,c=\"red\",marker=\"o\",alpha=0.5)\n",
      "plt.xscale(\"log\")\n",
      "plt.yscale(\"log\")\n",
      "plt.show()"
     ],
     "language": "python",
     "metadata": {},
     "outputs": [
      {
       "metadata": {},
       "output_type": "display_data",
       "png": "[encoded data removed]",
       "text": [
        "<matplotlib.figure.Figure at 0x130866410>"
       ]
      }
     ],
     "prompt_number": 159
    },
    {
     "cell_type": "code",
     "collapsed": false,
     "input": [
      "sum(ya)"
     ],
     "language": "python",
     "metadata": {},
     "outputs": [
      {
       "metadata": {},
       "output_type": "pyout",
       "prompt_number": 160,
       "text": [
        "0.57692307692307676"
       ]
      }
     ],
     "prompt_number": 160
    },
    {
     "cell_type": "code",
     "collapsed": false,
     "input": [
      "import csv\n",
      "\n",
      "with open(\"imdb_degree.csv\", \"wb\") as f:\n",
      "    writer = csv.writer(f)\n",
      "    writer.writerows(x[1] for x in degree)"
     ],
     "language": "python",
     "metadata": {},
     "outputs": [
      {
       "ename": "TypeError",
       "evalue": "'int' object has no attribute '__getitem__'",
       "output_type": "pyerr",
       "traceback": [
        "\u001b[0;31m---------------------------------------------------------------------------\u001b[0m\n\u001b[0;31mTypeError\u001b[0m                                 Traceback (most recent call last)",
        "\u001b[0;32m<ipython-input-42-f8c134d78b9a>\u001b[0m in \u001b[0;36m<module>\u001b[0;34m()\u001b[0m\n\u001b[1;32m      3\u001b[0m \u001b[0;32mwith\u001b[0m \u001b[0mopen\u001b[0m\u001b[0;34m(\u001b[0m\u001b[0;34m\"imdb_degree.csv\"\u001b[0m\u001b[0;34m,\u001b[0m \u001b[0;34m\"wb\"\u001b[0m\u001b[0;34m)\u001b[0m \u001b[0;32mas\u001b[0m \u001b[0mf\u001b[0m\u001b[0;34m:\u001b[0m\u001b[0;34m\u001b[0m\u001b[0m\n\u001b[1;32m      4\u001b[0m     \u001b[0mwriter\u001b[0m \u001b[0;34m=\u001b[0m \u001b[0mcsv\u001b[0m\u001b[0;34m.\u001b[0m\u001b[0mwriter\u001b[0m\u001b[0;34m(\u001b[0m\u001b[0mf\u001b[0m\u001b[0;34m)\u001b[0m\u001b[0;34m\u001b[0m\u001b[0m\n\u001b[0;32m----> 5\u001b[0;31m     \u001b[0mwriter\u001b[0m\u001b[0;34m.\u001b[0m\u001b[0mwriterows\u001b[0m\u001b[0;34m(\u001b[0m\u001b[0mx\u001b[0m\u001b[0;34m[\u001b[0m\u001b[0;36m1\u001b[0m\u001b[0;34m]\u001b[0m \u001b[0;32mfor\u001b[0m \u001b[0mx\u001b[0m \u001b[0;32min\u001b[0m \u001b[0mdegree\u001b[0m\u001b[0;34m)\u001b[0m\u001b[0;34m\u001b[0m\u001b[0m\n\u001b[0m",
        "\u001b[0;32m<ipython-input-42-f8c134d78b9a>\u001b[0m in \u001b[0;36m<genexpr>\u001b[0;34m((x,))\u001b[0m\n\u001b[1;32m      3\u001b[0m \u001b[0;32mwith\u001b[0m \u001b[0mopen\u001b[0m\u001b[0;34m(\u001b[0m\u001b[0;34m\"imdb_degree.csv\"\u001b[0m\u001b[0;34m,\u001b[0m \u001b[0;34m\"wb\"\u001b[0m\u001b[0;34m)\u001b[0m \u001b[0;32mas\u001b[0m \u001b[0mf\u001b[0m\u001b[0;34m:\u001b[0m\u001b[0;34m\u001b[0m\u001b[0m\n\u001b[1;32m      4\u001b[0m     \u001b[0mwriter\u001b[0m \u001b[0;34m=\u001b[0m \u001b[0mcsv\u001b[0m\u001b[0;34m.\u001b[0m\u001b[0mwriter\u001b[0m\u001b[0;34m(\u001b[0m\u001b[0mf\u001b[0m\u001b[0;34m)\u001b[0m\u001b[0;34m\u001b[0m\u001b[0m\n\u001b[0;32m----> 5\u001b[0;31m     \u001b[0mwriter\u001b[0m\u001b[0;34m.\u001b[0m\u001b[0mwriterows\u001b[0m\u001b[0;34m(\u001b[0m\u001b[0mx\u001b[0m\u001b[0;34m[\u001b[0m\u001b[0;36m1\u001b[0m\u001b[0;34m]\u001b[0m \u001b[0;32mfor\u001b[0m \u001b[0mx\u001b[0m \u001b[0;32min\u001b[0m \u001b[0mdegree\u001b[0m\u001b[0;34m)\u001b[0m\u001b[0;34m\u001b[0m\u001b[0m\n\u001b[0m",
        "\u001b[0;31mTypeError\u001b[0m: 'int' object has no attribute '__getitem__'"
       ]
      }
     ],
     "prompt_number": 42
    },
    {
     "cell_type": "code",
     "collapsed": false,
     "input": [
      "import csv\n",
      "resultFile = open(\"imdb_degree.csv\",'wb')\n",
      "wr = csv.writer(resultFile, dialect='excel')\n",
      "wr.writerow(dT)"
     ],
     "language": "python",
     "metadata": {},
     "outputs": [],
     "prompt_number": 299
    },
    {
     "cell_type": "code",
     "collapsed": false,
     "input": [
      "dT=zip(d)"
     ],
     "language": "python",
     "metadata": {},
     "outputs": [],
     "prompt_number": 297
    },
    {
     "cell_type": "code",
     "collapsed": false,
     "input": [
      "u=[1,2,3,4]\n",
      "up=zip(u)"
     ],
     "language": "python",
     "metadata": {},
     "outputs": [],
     "prompt_number": 291
    },
    {
     "cell_type": "code",
     "collapsed": false,
     "input": [
      "print len(dT)"
     ],
     "language": "python",
     "metadata": {},
     "outputs": [
      {
       "ename": "NameError",
       "evalue": "name 'dTt' is not defined",
       "output_type": "pyerr",
       "traceback": [
        "\u001b[0;31m---------------------------------------------------------------------------\u001b[0m\n\u001b[0;31mNameError\u001b[0m                                 Traceback (most recent call last)",
        "\u001b[0;32m<ipython-input-296-92671f4ccb35>\u001b[0m in \u001b[0;36m<module>\u001b[0;34m()\u001b[0m\n\u001b[0;32m----> 1\u001b[0;31m \u001b[0;32mprint\u001b[0m \u001b[0mlen\u001b[0m\u001b[0;34m(\u001b[0m\u001b[0mdTt\u001b[0m\u001b[0;34m)\u001b[0m\u001b[0;34m\u001b[0m\u001b[0m\n\u001b[0m",
        "\u001b[0;31mNameError\u001b[0m: name 'dTt' is not defined"
       ]
      }
     ],
     "prompt_number": 296
    },
    {
     "cell_type": "code",
     "collapsed": false,
     "input": [
      "with open(\"barabasi.txt\", \"w\") as text_file:\n",
      "    for i in deg:\n",
      "        string=str(deg[i]) + \"\\n\"\n",
      "        text_file.write(string)"
     ],
     "language": "python",
     "metadata": {},
     "outputs": [],
     "prompt_number": 60
    },
    {
     "cell_type": "code",
     "collapsed": false,
     "input": [
      "import pylab as P\n",
      "bins=[20]\n",
      "P.hist(degree,bins)\n"
     ],
     "language": "python",
     "metadata": {},
     "outputs": [
      {
       "metadata": {},
       "output_type": "pyout",
       "prompt_number": 28,
       "text": [
        "(array([], dtype=float64), array([20]), <a list of 0 Patch objects>)"
       ]
      },
      {
       "metadata": {},
       "output_type": "display_data",
       "png": "[encoded data removed]",
       "text": [
        "<matplotlib.figure.Figure at 0x1b85fda90>"
       ]
      }
     ],
     "prompt_number": 28
    },
    {
     "cell_type": "code",
     "collapsed": false,
     "input": [
      "G=nx.barabasi_albert_graph(100000,4)\n"
     ],
     "language": "python",
     "metadata": {},
     "outputs": [],
     "prompt_number": 57
    },
    {
     "cell_type": "code",
     "collapsed": false,
     "input": [
      "import networkx as nx\n",
      "deg=nx.degree(G)\n"
     ],
     "language": "python",
     "metadata": {},
     "outputs": [
      {
       "ename": "NameError",
       "evalue": "name 'G' is not defined",
       "output_type": "pyerr",
       "traceback": [
        "\u001b[1;31m---------------------------------------------------------------------------\u001b[0m\n\u001b[1;31mNameError\u001b[0m                                 Traceback (most recent call last)",
        "\u001b[1;32m<ipython-input-3-b9e5cd790f03>\u001b[0m in \u001b[0;36m<module>\u001b[1;34m()\u001b[0m\n\u001b[0;32m      1\u001b[0m \u001b[1;32mimport\u001b[0m \u001b[0mnetworkx\u001b[0m \u001b[1;32mas\u001b[0m \u001b[0mnx\u001b[0m\u001b[1;33m\u001b[0m\u001b[0m\n\u001b[1;32m----> 2\u001b[1;33m \u001b[0mdeg\u001b[0m\u001b[1;33m=\u001b[0m\u001b[0mnx\u001b[0m\u001b[1;33m.\u001b[0m\u001b[0mdegree\u001b[0m\u001b[1;33m(\u001b[0m\u001b[0mG\u001b[0m\u001b[1;33m)\u001b[0m\u001b[1;33m\u001b[0m\u001b[0m\n\u001b[0m",
        "\u001b[1;31mNameError\u001b[0m: name 'G' is not defined"
       ]
      }
     ],
     "prompt_number": 3
    },
    {
     "cell_type": "code",
     "collapsed": false,
     "input": [
      "core=[]\n",
      "for i in r:\n",
      "    core.append(r[i])"
     ],
     "language": "python",
     "metadata": {},
     "outputs": [],
     "prompt_number": 47
    },
    {
     "cell_type": "code",
     "collapsed": false,
     "input": [
      "ya[40]"
     ],
     "language": "python",
     "metadata": {},
     "outputs": []
    },
    {
     "cell_type": "code",
     "collapsed": false,
     "input": [
      "import igraph as gg\n",
      "c=gg.community_edge_betweenness(G, clusters=4, directed=False, weights=None)"
     ],
     "language": "python",
     "metadata": {},
     "outputs": [
      {
       "ename": "AttributeError",
       "evalue": "'module' object has no attribute 'community_edge_betweenness'",
       "output_type": "pyerr",
       "traceback": [
        "\u001b[1;31m---------------------------------------------------------------------------\u001b[0m\n\u001b[1;31mAttributeError\u001b[0m                            Traceback (most recent call last)",
        "\u001b[1;32m<ipython-input-10-ee4d45ec85e2>\u001b[0m in \u001b[0;36m<module>\u001b[1;34m()\u001b[0m\n\u001b[0;32m      1\u001b[0m \u001b[1;32mimport\u001b[0m \u001b[0migraph\u001b[0m \u001b[1;32mas\u001b[0m \u001b[0mgg\u001b[0m\u001b[1;33m\u001b[0m\u001b[0m\n\u001b[1;32m----> 2\u001b[1;33m \u001b[0mc\u001b[0m\u001b[1;33m=\u001b[0m\u001b[0mgg\u001b[0m\u001b[1;33m.\u001b[0m\u001b[0mcommunity_edge_betweenness\u001b[0m\u001b[1;33m(\u001b[0m\u001b[0mG\u001b[0m\u001b[1;33m,\u001b[0m \u001b[0mclusters\u001b[0m\u001b[1;33m=\u001b[0m\u001b[1;36m4\u001b[0m\u001b[1;33m,\u001b[0m \u001b[0mdirected\u001b[0m\u001b[1;33m=\u001b[0m\u001b[0mFalse\u001b[0m\u001b[1;33m,\u001b[0m \u001b[0mweights\u001b[0m\u001b[1;33m=\u001b[0m\u001b[0mNone\u001b[0m\u001b[1;33m)\u001b[0m\u001b[1;33m\u001b[0m\u001b[0m\n\u001b[0m",
        "\u001b[1;31mAttributeError\u001b[0m: 'module' object has no attribute 'community_edge_betweenness'"
       ]
      }
     ],
     "prompt_number": 10
    },
    {
     "cell_type": "code",
     "collapsed": false,
     "input": [],
     "language": "python",
     "metadata": {},
     "outputs": []
    },
    {
     "cell_type": "code",
     "collapsed": false,
     "input": [],
     "language": "python",
     "metadata": {},
     "outputs": [
      {
       "metadata": {},
       "output_type": "pyout",
       "prompt_number": 22,
       "text": [
        "[('1', '11388')]"
       ]
      }
     ],
     "prompt_number": 22
    },
    {
     "cell_type": "code",
     "collapsed": false,
     "input": [],
     "language": "python",
     "metadata": {},
     "outputs": []
    }
   ],
   "metadata": {}
  }
 ]
}